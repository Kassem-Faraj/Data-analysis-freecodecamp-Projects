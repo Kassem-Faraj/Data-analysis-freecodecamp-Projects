{
 "cells": [
  {
   "cell_type": "code",
   "execution_count": 1,
   "id": "2de73034",
   "metadata": {},
   "outputs": [],
   "source": [
    "import numpy as np\n",
    "\n",
    "\n",
    "def calculate(input_list):\n",
    "  if len(input_list) != 9:\n",
    "    raise ValueError(\"List must contain nine numbers.\")\n",
    "  else:\n",
    "    new_arr = np.array(input_list)\n",
    "    reshape_arr = new_arr.reshape(3, 3)\n",
    "\n",
    "    reshape_col_mean = np.mean(reshape_arr, axis=0).tolist()\n",
    "    reshape_row_mean = np.mean(reshape_arr, axis=1).tolist()\n",
    "    reshape_full_mean = np.mean(reshape_arr).tolist()\n",
    "\n",
    "    reshape_col_var = np.var(reshape_arr, axis=0).tolist()\n",
    "    reshape_row_var = np.var(reshape_arr, axis=1).tolist()\n",
    "    reshape_full_var = np.var(reshape_arr).tolist()\n",
    "\n",
    "    reshape_col_std = np.std(reshape_arr, axis=0).tolist()\n",
    "    reshape_row_std = np.std(reshape_arr, axis=1).tolist()\n",
    "    reshape_full_std = np.std(reshape_arr).tolist()\n",
    "\n",
    "    reshape_col_max = np.amax(reshape_arr, axis=0).tolist()\n",
    "    reshape_row_max = np.amax(reshape_arr, axis=1).tolist()\n",
    "    reshape_full_max = np.amax(reshape_arr).tolist()\n",
    "\n",
    "    reshape_col_min = np.amin(reshape_arr, axis=0).tolist()\n",
    "    reshape_row_min = np.amin(reshape_arr, axis=1).tolist()\n",
    "    reshape_full_min = np.amin(reshape_arr).tolist()\n",
    "\n",
    "    reshape_col_sum = np.sum(reshape_arr, axis=0).tolist()\n",
    "    reshape_row_sum = np.sum(reshape_arr, axis=1).tolist()\n",
    "    reshape_full_sum = np.sum(reshape_arr).tolist()\n",
    "\n",
    "    dict = {\n",
    "      'mean': [reshape_col_mean, reshape_row_mean, reshape_full_mean],\n",
    "      'variance': [reshape_col_var, reshape_row_var, reshape_full_var],\n",
    "      'standard deviation':\n",
    "      [reshape_col_std, reshape_row_std, reshape_full_std],\n",
    "      'max': [reshape_col_max, reshape_row_max, reshape_full_max],\n",
    "      'min': [reshape_col_min, reshape_row_min, reshape_full_min],\n",
    "      'sum': [reshape_col_sum, reshape_row_sum, reshape_full_sum]\n",
    "    }\n",
    "    return dict"
   ]
  },
  {
   "cell_type": "code",
   "execution_count": 2,
   "id": "ed9c7aa4",
   "metadata": {},
   "outputs": [
    {
     "name": "stdout",
     "output_type": "stream",
     "text": [
      "{'mean': [[3.0, 4.0, 5.0], [1.0, 4.0, 7.0], 4.0], 'variance': [[6.0, 6.0, 6.0], [0.6666666666666666, 0.6666666666666666, 0.6666666666666666], 6.666666666666667], 'standard deviation': [[2.449489742783178, 2.449489742783178, 2.449489742783178], [0.816496580927726, 0.816496580927726, 0.816496580927726], 2.581988897471611], 'max': [[6, 7, 8], [2, 5, 8], 8], 'min': [[0, 1, 2], [0, 3, 6], 0], 'sum': [[9, 12, 15], [3, 12, 21], 36]}\n"
     ]
    }
   ],
   "source": [
    "print(calculate([0, 1, 2, 3, 4, 5, 6, 7, 8]))"
   ]
  },
  {
   "cell_type": "code",
   "execution_count": null,
   "id": "3049eaf0",
   "metadata": {},
   "outputs": [],
   "source": []
  }
 ],
 "metadata": {
  "kernelspec": {
   "display_name": "Python 3 (ipykernel)",
   "language": "python",
   "name": "python3"
  },
  "language_info": {
   "codemirror_mode": {
    "name": "ipython",
    "version": 3
   },
   "file_extension": ".py",
   "mimetype": "text/x-python",
   "name": "python",
   "nbconvert_exporter": "python",
   "pygments_lexer": "ipython3",
   "version": "3.9.12"
  }
 },
 "nbformat": 4,
 "nbformat_minor": 5
}
